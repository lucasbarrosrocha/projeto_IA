{
  "nbformat": 4,
  "nbformat_minor": 0,
  "metadata": {
    "anaconda-cloud": {},
    "kernelspec": {
      "display_name": "Python 3",
      "language": "python",
      "name": "python3"
    },
    "language_info": {
      "codemirror_mode": {
        "name": "ipython",
        "version": 2
      },
      "file_extension": ".py",
      "mimetype": "text/x-python",
      "name": "python",
      "nbconvert_exporter": "python",
      "pygments_lexer": "ipython2",
      "version": "2.7.16"
    },
    "colab": {
      "name": "TRABALHO+IA (1).ipynb",
      "provenance": [],
      "toc_visible": true,
      "include_colab_link": true
    }
  },
  "cells": [
    {
      "cell_type": "markdown",
      "metadata": {
        "id": "view-in-github",
        "colab_type": "text"
      },
      "source": [
        "<a href=\"https://colab.research.google.com/github/lucasbarrosrocha/projeto_IA/blob/master/TRABALHO%2BIA_(1).ipynb\" target=\"_parent\"><img src=\"https://colab.research.google.com/assets/colab-badge.svg\" alt=\"Open In Colab\"/></a>"
      ]
    },
    {
      "cell_type": "markdown",
      "metadata": {
        "id": "WnzHcWrVyZtc",
        "colab_type": "text"
      },
      "source": [
        "### Lista de atividades\n",
        "\n",
        "- [x] Introduzir o trabalho (tema, componentes)\n",
        "- [x] Detalhar fonte dos dados\n",
        "- [x] Explicar quatitativamente os dados\n",
        "- [x] Expor as variáveis (features)\n",
        "- [x] Remover dados invalidos\n",
        "- [x] Dividir os dados em treino e teste\n",
        "- [x] Expor algoritmos usados no trabalho\n",
        "- [x] Treinar com as variáveis puras\n",
        "- [x] Avaliar resultados\n",
        "- [x] Ajustar as variáveis\n",
        "- [x] Treinar novamente\n",
        "- [x] Avaliar novos resultados\n",
        "- [x] Ajustar paramentros dos algoritmos \n",
        "- [x] Avaliar novos resultados 2\n",
        "- [x] Testar com df de teste\n",
        "- [ ] Avaliar resultados finais \n",
        "- [ ] Criar Slide\n",
        "- [x] (optional) Fazer análise de features importantes para o modelo\n",
        "- [ ] (optional) Ajustar features com valor qualitativo\n"
      ]
    },
    {
      "cell_type": "markdown",
      "metadata": {
        "id": "5_j-9lbLTBul",
        "colab_type": "text"
      },
      "source": [
        "# Apresentação parcial\n",
        "\n",
        "## Equipe:\n",
        "\n",
        "* Lucas Barros</br>  \n",
        "* Luiz Ricardo</br>  \n",
        "* Maiana Jardelle</br>  \n",
        "* Pedro Henrique</br>  \n",
        "* Volney Gomes\n",
        "\n",
        "## Usando algoritmos de aprendizagem de máquina para prever resultados de partida de futebol\n"
      ]
    },
    {
      "cell_type": "code",
      "metadata": {
        "id": "H0Ctv1pGTBus",
        "colab_type": "code",
        "colab": {}
      },
      "source": [
        "import pandas as pd\n",
        "import numpy as np"
      ],
      "execution_count": 0,
      "outputs": []
    },
    {
      "cell_type": "markdown",
      "metadata": {
        "id": "L7WAtaNGTBu1",
        "colab_type": "text"
      },
      "source": [
        "### Importando dados"
      ]
    },
    {
      "cell_type": "code",
      "metadata": {
        "id": "dw9rBKraTBu2",
        "colab_type": "code",
        "outputId": "c41f3e7c-a54c-4544-d685-657d5ff65f44",
        "colab": {
          "base_uri": "https://localhost:8080/",
          "height": 77
        }
      },
      "source": [
        "# df = pd.read_csv('/home/lucas/Documentos/soccer/Total.csv', low_memory=False)\n",
        "# print(*df.columns, sep='\\n')\n",
        "df = pd.read_csv('https://raw.githubusercontent.com/lucasbarrosrocha/projeto_IA/master/dataframe/resume%20.csv')\n",
        "df = df.drop(columns=['Unnamed: 0'])\n",
        "\n",
        "def size_dataframe(df):\n",
        "    resume = pd.DataFrame()\n",
        "    resume = pd.DataFrame(columns=['Linhas','Colunas'])\n",
        "    resume.loc['Dados'] = df.shape[0], df.shape[1]\n",
        "    # resume = pd.DataFrame(columns=['Linhas'])\n",
        "    # resume.loc['Dados'] = df.shape[0]\n",
        "    return resume\n",
        "\n",
        "size_dataframe(df)"
      ],
      "execution_count": 42,
      "outputs": [
        {
          "output_type": "execute_result",
          "data": {
            "text/html": [
              "<div>\n",
              "<style scoped>\n",
              "    .dataframe tbody tr th:only-of-type {\n",
              "        vertical-align: middle;\n",
              "    }\n",
              "\n",
              "    .dataframe tbody tr th {\n",
              "        vertical-align: top;\n",
              "    }\n",
              "\n",
              "    .dataframe thead th {\n",
              "        text-align: right;\n",
              "    }\n",
              "</style>\n",
              "<table border=\"1\" class=\"dataframe\">\n",
              "  <thead>\n",
              "    <tr style=\"text-align: right;\">\n",
              "      <th></th>\n",
              "      <th>Linhas</th>\n",
              "      <th>Colunas</th>\n",
              "    </tr>\n",
              "  </thead>\n",
              "  <tbody>\n",
              "    <tr>\n",
              "      <th>Dados</th>\n",
              "      <td>37540</td>\n",
              "      <td>21</td>\n",
              "    </tr>\n",
              "  </tbody>\n",
              "</table>\n",
              "</div>"
            ],
            "text/plain": [
              "      Linhas Colunas\n",
              "Dados  37540      21"
            ]
          },
          "metadata": {
            "tags": []
          },
          "execution_count": 42
        }
      ]
    },
    {
      "cell_type": "markdown",
      "metadata": {
        "id": "aU55HbYdTBu8",
        "colab_type": "text"
      },
      "source": [
        "## Dados disponíveis\n",
        "**9** Campeonatos:\n",
        "* **Brazil A** - Brasil (Série A)\n",
        "* **Brazil B** - Brasil (Série B)\n",
        "* **English A** - Inglaterra (Premier League)\n",
        "* **Spain A** - Espanha (La Liga)\n",
        "* **Germany A** - Alemanha (Bundesliga)\n",
        "* **Italy A** - Itália (Serie A)\n",
        "* **France A** - França (Ligue 1)\n",
        "* **Portugal A** - Portugal (Primeira Liga)\n",
        "* **Netherlands A** - Holanda (Eredivisie)\n",
        "\n",
        "**Sobre os dados:** o dados foram colhidos do site www.betexplorer.com.br, contendo informações do time de futebol, cotação da casas de apostas, resultado do jogo, data e hora, dentre outros.\n",
        "\n",
        "<br/>\n",
        "\n",
        "<img src='data.png' />\n",
        "\n",
        "<br/>\n",
        "\n",
        "É importante obserar que alguns campeonatos tem menos jogos que o outro. Isso se deve ao fato do campeonato ter menos times na competição.\n",
        "O campeonato português, particularmente, passou de 16 para 18 times a partir de 2014, o que pode ser observado no aumento do número de jogos.\n"
      ]
    },
    {
      "cell_type": "markdown",
      "metadata": {
        "id": "AN81DatUTBu9",
        "colab_type": "text"
      },
      "source": [
        "### Constantes referentes as colunas do data frame"
      ]
    },
    {
      "cell_type": "code",
      "metadata": {
        "id": "FvQrBMIiTBu_",
        "colab_type": "code",
        "colab": {}
      },
      "source": [
        "GAME_RESULT = 'm.res.1x2'\n",
        "BTS_RESULT = 'm.res.bts'\n",
        "\n",
        "YEAR = 'm.ss.yi'\n",
        "CHAMPIONSHIP = 'm.ss.ch.nm'\n",
        "HOME_TEAM = 'm.th'\n",
        "AWAY_TEAM = 'm.ta'\n",
        "\n",
        "ML_AVERAGE_ODD_FAVORITE = 'm.odds.f.1x2.f.v.med'\n",
        "ML_AVERAGE_ODD_MIDDLE = 'm.odds.f.1x2.m.v.med'\n",
        "ML_AVERAGE_ODD_UNDERDOG = 'm.odds.f.1x2.u.v.med'\n",
        "ML_OPTION_FAVORITE = 'm.odds.f.1x2.f.c'\n",
        "ML_OPTION_MIDDLE = 'm.odds.f.1x2.m.c'\n",
        "ML_OPTION_UNDERDOG = 'm.odds.f.1x2.u.c'\n",
        "BTS_AVERAGE_ODD_FAVORTIE = 'm.odds.f.bts.f.v.med'\n",
        "BTS_AVERAGE_ODD_UNDERDOG = 'm.odds.f.bts.u.v.med'\n",
        "BTS_OPTION_FAVORITE = 'm.odds.f.bts.f.c'\n",
        "BTS_OPTION_UNDERDOG = 'm.odds.f.bts.u.c'\n",
        "\n",
        "FAVORITE_ODDS = 'm.odds.f.1x2.f.c'\n",
        "FAVORITE = 'm.odds.f.1x2.f.v.avg'\n"
      ],
      "execution_count": 0,
      "outputs": []
    },
    {
      "cell_type": "code",
      "metadata": {
        "id": "8uFCawkNW4_m",
        "colab_type": "code",
        "outputId": "4d79a138-9680-463b-9a81-f0b6b6071bb1",
        "colab": {
          "base_uri": "https://localhost:8080/",
          "height": 476
        }
      },
      "source": [
        "df"
      ],
      "execution_count": 43,
      "outputs": [
        {
          "output_type": "execute_result",
          "data": {
            "text/html": [
              "<div>\n",
              "<style scoped>\n",
              "    .dataframe tbody tr th:only-of-type {\n",
              "        vertical-align: middle;\n",
              "    }\n",
              "\n",
              "    .dataframe tbody tr th {\n",
              "        vertical-align: top;\n",
              "    }\n",
              "\n",
              "    .dataframe thead th {\n",
              "        text-align: right;\n",
              "    }\n",
              "</style>\n",
              "<table border=\"1\" class=\"dataframe\">\n",
              "  <thead>\n",
              "    <tr style=\"text-align: right;\">\n",
              "      <th></th>\n",
              "      <th>m.ss.yi</th>\n",
              "      <th>m.ss.ch.nm</th>\n",
              "      <th>m.ta</th>\n",
              "      <th>m.th</th>\n",
              "      <th>m.res.1x2</th>\n",
              "      <th>m.res.bts</th>\n",
              "      <th>m.odds.f.1x2.f.v.med</th>\n",
              "      <th>m.odds.f.1x2.m.v.med</th>\n",
              "      <th>m.odds.f.1x2.u.v.med</th>\n",
              "      <th>m.odds.f.1x2.f.c</th>\n",
              "      <th>m.odds.f.1x2.m.c</th>\n",
              "      <th>m.odds.f.1x2.u.c</th>\n",
              "      <th>m.odds.f.bts.f.v.med</th>\n",
              "      <th>m.odds.f.bts.u.v.med</th>\n",
              "      <th>m.odds.f.bts.f.c</th>\n",
              "      <th>m.odds.f.bts.u.c</th>\n",
              "      <th>m.odds.s.1x2.h.t.med</th>\n",
              "      <th>m.odds.s.1x2.d.t.med</th>\n",
              "      <th>m.odds.s.1x2.a.t.med</th>\n",
              "      <th>m.odds.s.bts.y.t.med</th>\n",
              "      <th>m.odds.s.bts.n.t.med</th>\n",
              "    </tr>\n",
              "  </thead>\n",
              "  <tbody>\n",
              "    <tr>\n",
              "      <th>0</th>\n",
              "      <td>2007</td>\n",
              "      <td>Brazil B</td>\n",
              "      <td>Ituano</td>\n",
              "      <td>Avai</td>\n",
              "      <td>h</td>\n",
              "      <td>n</td>\n",
              "      <td>NaN</td>\n",
              "      <td>NaN</td>\n",
              "      <td>NaN</td>\n",
              "      <td>NaN</td>\n",
              "      <td>NaN</td>\n",
              "      <td>NaN</td>\n",
              "      <td>NaN</td>\n",
              "      <td>NaN</td>\n",
              "      <td>NaN</td>\n",
              "      <td>NaN</td>\n",
              "      <td>NaN</td>\n",
              "      <td>NaN</td>\n",
              "      <td>NaN</td>\n",
              "      <td>NaN</td>\n",
              "      <td>NaN</td>\n",
              "    </tr>\n",
              "    <tr>\n",
              "      <th>1</th>\n",
              "      <td>2007</td>\n",
              "      <td>Brazil B</td>\n",
              "      <td>Santo Andre</td>\n",
              "      <td>Ceara</td>\n",
              "      <td>a</td>\n",
              "      <td>y</td>\n",
              "      <td>NaN</td>\n",
              "      <td>NaN</td>\n",
              "      <td>NaN</td>\n",
              "      <td>NaN</td>\n",
              "      <td>NaN</td>\n",
              "      <td>NaN</td>\n",
              "      <td>NaN</td>\n",
              "      <td>NaN</td>\n",
              "      <td>NaN</td>\n",
              "      <td>NaN</td>\n",
              "      <td>NaN</td>\n",
              "      <td>NaN</td>\n",
              "      <td>NaN</td>\n",
              "      <td>NaN</td>\n",
              "      <td>NaN</td>\n",
              "    </tr>\n",
              "    <tr>\n",
              "      <th>2</th>\n",
              "      <td>2007</td>\n",
              "      <td>Brazil B</td>\n",
              "      <td>Barueri</td>\n",
              "      <td>CRB</td>\n",
              "      <td>h</td>\n",
              "      <td>y</td>\n",
              "      <td>NaN</td>\n",
              "      <td>NaN</td>\n",
              "      <td>NaN</td>\n",
              "      <td>NaN</td>\n",
              "      <td>NaN</td>\n",
              "      <td>NaN</td>\n",
              "      <td>NaN</td>\n",
              "      <td>NaN</td>\n",
              "      <td>NaN</td>\n",
              "      <td>NaN</td>\n",
              "      <td>NaN</td>\n",
              "      <td>NaN</td>\n",
              "      <td>NaN</td>\n",
              "      <td>NaN</td>\n",
              "      <td>NaN</td>\n",
              "    </tr>\n",
              "    <tr>\n",
              "      <th>3</th>\n",
              "      <td>2007</td>\n",
              "      <td>Brazil B</td>\n",
              "      <td>Bahia</td>\n",
              "      <td>Gama</td>\n",
              "      <td>h</td>\n",
              "      <td>n</td>\n",
              "      <td>NaN</td>\n",
              "      <td>NaN</td>\n",
              "      <td>NaN</td>\n",
              "      <td>NaN</td>\n",
              "      <td>NaN</td>\n",
              "      <td>NaN</td>\n",
              "      <td>NaN</td>\n",
              "      <td>NaN</td>\n",
              "      <td>NaN</td>\n",
              "      <td>NaN</td>\n",
              "      <td>NaN</td>\n",
              "      <td>NaN</td>\n",
              "      <td>NaN</td>\n",
              "      <td>NaN</td>\n",
              "      <td>NaN</td>\n",
              "    </tr>\n",
              "    <tr>\n",
              "      <th>4</th>\n",
              "      <td>2007</td>\n",
              "      <td>Brazil B</td>\n",
              "      <td>Fortaleza</td>\n",
              "      <td>Marilia</td>\n",
              "      <td>a</td>\n",
              "      <td>y</td>\n",
              "      <td>NaN</td>\n",
              "      <td>NaN</td>\n",
              "      <td>NaN</td>\n",
              "      <td>NaN</td>\n",
              "      <td>NaN</td>\n",
              "      <td>NaN</td>\n",
              "      <td>NaN</td>\n",
              "      <td>NaN</td>\n",
              "      <td>NaN</td>\n",
              "      <td>NaN</td>\n",
              "      <td>NaN</td>\n",
              "      <td>NaN</td>\n",
              "      <td>NaN</td>\n",
              "      <td>NaN</td>\n",
              "      <td>NaN</td>\n",
              "    </tr>\n",
              "    <tr>\n",
              "      <th>...</th>\n",
              "      <td>...</td>\n",
              "      <td>...</td>\n",
              "      <td>...</td>\n",
              "      <td>...</td>\n",
              "      <td>...</td>\n",
              "      <td>...</td>\n",
              "      <td>...</td>\n",
              "      <td>...</td>\n",
              "      <td>...</td>\n",
              "      <td>...</td>\n",
              "      <td>...</td>\n",
              "      <td>...</td>\n",
              "      <td>...</td>\n",
              "      <td>...</td>\n",
              "      <td>...</td>\n",
              "      <td>...</td>\n",
              "      <td>...</td>\n",
              "      <td>...</td>\n",
              "      <td>...</td>\n",
              "      <td>...</td>\n",
              "      <td>...</td>\n",
              "    </tr>\n",
              "    <tr>\n",
              "      <th>37535</th>\n",
              "      <td>2017</td>\n",
              "      <td>Germany A</td>\n",
              "      <td>Werder Bremen</td>\n",
              "      <td>Hoffenheim</td>\n",
              "      <td>h</td>\n",
              "      <td>n</td>\n",
              "      <td>1.80</td>\n",
              "      <td>4.00</td>\n",
              "      <td>4.225</td>\n",
              "      <td>h</td>\n",
              "      <td>d</td>\n",
              "      <td>a</td>\n",
              "      <td>1.50</td>\n",
              "      <td>2.400</td>\n",
              "      <td>y</td>\n",
              "      <td>n</td>\n",
              "      <td>0.5337</td>\n",
              "      <td>0.2381</td>\n",
              "      <td>0.2233</td>\n",
              "      <td>0.6154</td>\n",
              "      <td>0.3846</td>\n",
              "    </tr>\n",
              "    <tr>\n",
              "      <th>37536</th>\n",
              "      <td>2017</td>\n",
              "      <td>Germany A</td>\n",
              "      <td>Hannover</td>\n",
              "      <td>Mainz</td>\n",
              "      <td>a</td>\n",
              "      <td>n</td>\n",
              "      <td>1.86</td>\n",
              "      <td>3.59</td>\n",
              "      <td>4.240</td>\n",
              "      <td>h</td>\n",
              "      <td>d</td>\n",
              "      <td>a</td>\n",
              "      <td>1.79</td>\n",
              "      <td>1.940</td>\n",
              "      <td>y</td>\n",
              "      <td>n</td>\n",
              "      <td>0.5089</td>\n",
              "      <td>0.2672</td>\n",
              "      <td>0.2222</td>\n",
              "      <td>0.5202</td>\n",
              "      <td>0.4798</td>\n",
              "    </tr>\n",
              "    <tr>\n",
              "      <th>37537</th>\n",
              "      <td>2017</td>\n",
              "      <td>Germany A</td>\n",
              "      <td>RB Leipzig</td>\n",
              "      <td>Schalke</td>\n",
              "      <td>h</td>\n",
              "      <td>n</td>\n",
              "      <td>2.50</td>\n",
              "      <td>2.80</td>\n",
              "      <td>3.350</td>\n",
              "      <td>a</td>\n",
              "      <td>h</td>\n",
              "      <td>d</td>\n",
              "      <td>1.67</td>\n",
              "      <td>2.095</td>\n",
              "      <td>y</td>\n",
              "      <td>n</td>\n",
              "      <td>0.3372</td>\n",
              "      <td>0.2823</td>\n",
              "      <td>0.3773</td>\n",
              "      <td>0.5571</td>\n",
              "      <td>0.4429</td>\n",
              "    </tr>\n",
              "    <tr>\n",
              "      <th>37538</th>\n",
              "      <td>2017</td>\n",
              "      <td>Germany A</td>\n",
              "      <td>Dortmund</td>\n",
              "      <td>Wolfsburg</td>\n",
              "      <td>a</td>\n",
              "      <td>n</td>\n",
              "      <td>1.90</td>\n",
              "      <td>3.80</td>\n",
              "      <td>3.800</td>\n",
              "      <td>a</td>\n",
              "      <td>d</td>\n",
              "      <td>h</td>\n",
              "      <td>1.55</td>\n",
              "      <td>2.350</td>\n",
              "      <td>y</td>\n",
              "      <td>n</td>\n",
              "      <td>0.2458</td>\n",
              "      <td>0.2509</td>\n",
              "      <td>0.4994</td>\n",
              "      <td>0.6104</td>\n",
              "      <td>0.3896</td>\n",
              "    </tr>\n",
              "    <tr>\n",
              "      <th>37539</th>\n",
              "      <td>2017</td>\n",
              "      <td>Germany A</td>\n",
              "      <td>Bayer Leverkusen</td>\n",
              "      <td>Bayern Munich</td>\n",
              "      <td>h</td>\n",
              "      <td>y</td>\n",
              "      <td>1.26</td>\n",
              "      <td>6.25</td>\n",
              "      <td>10.500</td>\n",
              "      <td>h</td>\n",
              "      <td>d</td>\n",
              "      <td>a</td>\n",
              "      <td>1.77</td>\n",
              "      <td>1.980</td>\n",
              "      <td>y</td>\n",
              "      <td>n</td>\n",
              "      <td>0.7564</td>\n",
              "      <td>0.1529</td>\n",
              "      <td>0.0902</td>\n",
              "      <td>0.5270</td>\n",
              "      <td>0.4730</td>\n",
              "    </tr>\n",
              "  </tbody>\n",
              "</table>\n",
              "<p>37540 rows × 21 columns</p>\n",
              "</div>"
            ],
            "text/plain": [
              "       m.ss.yi m.ss.ch.nm  ... m.odds.s.bts.y.t.med m.odds.s.bts.n.t.med\n",
              "0         2007   Brazil B  ...                  NaN                  NaN\n",
              "1         2007   Brazil B  ...                  NaN                  NaN\n",
              "2         2007   Brazil B  ...                  NaN                  NaN\n",
              "3         2007   Brazil B  ...                  NaN                  NaN\n",
              "4         2007   Brazil B  ...                  NaN                  NaN\n",
              "...        ...        ...  ...                  ...                  ...\n",
              "37535     2017  Germany A  ...               0.6154               0.3846\n",
              "37536     2017  Germany A  ...               0.5202               0.4798\n",
              "37537     2017  Germany A  ...               0.5571               0.4429\n",
              "37538     2017  Germany A  ...               0.6104               0.3896\n",
              "37539     2017  Germany A  ...               0.5270               0.4730\n",
              "\n",
              "[37540 rows x 21 columns]"
            ]
          },
          "metadata": {
            "tags": []
          },
          "execution_count": 43
        }
      ]
    },
    {
      "cell_type": "markdown",
      "metadata": {
        "id": "5X3teMf6TBvB",
        "colab_type": "text"
      },
      "source": [
        "### Funções de uso geral"
      ]
    },
    {
      "cell_type": "code",
      "metadata": {
        "id": "q-NNu9_oTBvC",
        "colab_type": "code",
        "colab": {}
      },
      "source": [
        "def formater_porcent(value):\n",
        "    return( \"%.2f\" % (float(value) * 100))"
      ],
      "execution_count": 0,
      "outputs": []
    },
    {
      "cell_type": "markdown",
      "metadata": {
        "id": "mnaNfSZBTBvH",
        "colab_type": "text"
      },
      "source": [
        "### Verificando tamanho do data frame\n"
      ]
    },
    {
      "cell_type": "code",
      "metadata": {
        "id": "vU1nIE7iTBvI",
        "colab_type": "code",
        "outputId": "bc105d0d-b340-401e-a1a5-e4dc41255af5",
        "colab": {
          "base_uri": "https://localhost:8080/",
          "height": 34
        }
      },
      "source": [
        "print(len(df))"
      ],
      "execution_count": 6,
      "outputs": [
        {
          "output_type": "stream",
          "text": [
            "37540\n"
          ],
          "name": "stdout"
        }
      ]
    },
    {
      "cell_type": "markdown",
      "metadata": {
        "collapsed": true,
        "id": "sCR-TcwTTBvK",
        "colab_type": "text"
      },
      "source": [
        "### Removendo linhas que tem resultado do jogo vazio"
      ]
    },
    {
      "cell_type": "code",
      "metadata": {
        "id": "wd0IhyzhTBvK",
        "colab_type": "code",
        "outputId": "9d34f30b-c3f3-4f84-89aa-078eb7069b11",
        "colab": {
          "base_uri": "https://localhost:8080/",
          "height": 34
        }
      },
      "source": [
        "df = df[df[GAME_RESULT].notnull()]\n",
        "print(len(df))"
      ],
      "execution_count": 7,
      "outputs": [
        {
          "output_type": "stream",
          "text": [
            "37538\n"
          ],
          "name": "stdout"
        }
      ]
    },
    {
      "cell_type": "markdown",
      "metadata": {
        "collapsed": true,
        "id": "Iu0A0IZFTBvU",
        "colab_type": "text"
      },
      "source": [
        "### Removendo linhas que tem odds do favorito vazio"
      ]
    },
    {
      "cell_type": "code",
      "metadata": {
        "id": "BEIw3VsATBvV",
        "colab_type": "code",
        "outputId": "49e84798-f0d3-4bc3-a017-d4ffbc1ee698",
        "colab": {
          "base_uri": "https://localhost:8080/",
          "height": 34
        }
      },
      "source": [
        "df = df[df[FAVORITE_ODDS].notnull()]\n",
        "print(len(df))"
      ],
      "execution_count": 8,
      "outputs": [
        {
          "output_type": "stream",
          "text": [
            "36388\n"
          ],
          "name": "stdout"
        }
      ]
    },
    {
      "cell_type": "code",
      "metadata": {
        "id": "Y4pQ0y4DhnHH",
        "colab_type": "code",
        "outputId": "845e985a-d3a4-46fc-be88-012dfc70afb5",
        "colab": {
          "base_uri": "https://localhost:8080/",
          "height": 34
        }
      },
      "source": [
        "df = df[df[ML_AVERAGE_ODD_FAVORITE].notnull()]\n",
        "df = df[df[ML_AVERAGE_ODD_MIDDLE].notnull()]\n",
        "df = df[df[ML_AVERAGE_ODD_UNDERDOG].notnull()]\n",
        "df = df[df[ML_OPTION_FAVORITE].notnull()]\n",
        "df = df[df[ML_OPTION_MIDDLE].notnull()]\n",
        "df = df[df[ML_OPTION_UNDERDOG].notnull()]\n",
        "df = df[df[BTS_AVERAGE_ODD_FAVORTIE].notnull()]\n",
        "df = df[df[BTS_AVERAGE_ODD_UNDERDOG].notnull()]\n",
        "df = df[df[BTS_OPTION_FAVORITE].notnull()]\n",
        "df = df[df[BTS_OPTION_UNDERDOG].notnull()]\n",
        "\n",
        "print(len(df))"
      ],
      "execution_count": 9,
      "outputs": [
        {
          "output_type": "stream",
          "text": [
            "16749\n"
          ],
          "name": "stdout"
        }
      ]
    },
    {
      "cell_type": "markdown",
      "metadata": {
        "collapsed": true,
        "id": "yPz8eeVyTBvX",
        "colab_type": "text"
      },
      "source": [
        "## Divisão do Datafarme - Treino/Teste"
      ]
    },
    {
      "cell_type": "code",
      "metadata": {
        "id": "AcaVfBd1TBvX",
        "colab_type": "code",
        "outputId": "ac9c8977-7aed-4c0b-93e1-ebc83466721d",
        "colab": {
          "base_uri": "https://localhost:8080/",
          "height": 70
        }
      },
      "source": [
        "split_year = 2015   \n",
        "\n",
        "df_train = df[(df[YEAR] <= split_year)]\n",
        "df_test = df[(df[YEAR] > split_year)]   \n",
        "\n",
        "print('tamanho df treino: ' + str(len(df_train)))\n",
        "print('tamanho df teste: ' + str(len(df_test)))\n",
        "print(len(df_train)+len(df_test) == len(df))"
      ],
      "execution_count": 10,
      "outputs": [
        {
          "output_type": "stream",
          "text": [
            "tamanho df treino: 10665\n",
            "tamanho df teste: 6084\n",
            "True\n"
          ],
          "name": "stdout"
        }
      ]
    },
    {
      "cell_type": "markdown",
      "metadata": {
        "id": "ExhbHQJ8TBve",
        "colab_type": "text"
      },
      "source": [
        "## Escolha dos algoritmos de aprendizagem de máquina\n",
        "\n",
        "* AdaBoost  \n",
        "* RandomForest  \n",
        "* GradientBoosting  "
      ]
    },
    {
      "cell_type": "markdown",
      "metadata": {
        "id": "luvH_FhqTBve",
        "colab_type": "text"
      },
      "source": [
        "## Importando algoritmos de aprendizagem de máquina"
      ]
    },
    {
      "cell_type": "code",
      "metadata": {
        "id": "7OiDCPNRTBvh",
        "colab_type": "code",
        "colab": {}
      },
      "source": [
        "from sklearn.ensemble import RandomForestClassifier, GradientBoostingClassifier, AdaBoostClassifier\n",
        "# from sklearn.grid_search import GridSearchCV\n",
        "from sklearn.model_selection import GridSearchCV\n",
        "\n",
        "ada_clf = AdaBoostClassifier()\n",
        "rf_clf = RandomForestClassifier()\n",
        "grad_clf = GradientBoostingClassifier()\n",
        "\n",
        "# from sklearn.grid_search import GridSearchCV"
      ],
      "execution_count": 0,
      "outputs": []
    },
    {
      "cell_type": "markdown",
      "metadata": {
        "colab_type": "text",
        "id": "vHwJ1k6H2w8K"
      },
      "source": [
        "### Funções para predição."
      ]
    },
    {
      "cell_type": "code",
      "metadata": {
        "id": "K1wBYyb4gb41",
        "colab_type": "code",
        "colab": {}
      },
      "source": [
        "def prediction_features(clf,target, dataFrame, features):\n",
        "    param_grid = {}\n",
        "    grid= GridSearchCV(clf, param_grid=param_grid, verbose=1, cv=5)\n",
        "\n",
        "    grid.fit(dataFrame[features],dataFrame[target])\n",
        "    clf.fit(dataFrame[features],dataFrame[target])\n",
        "\n",
        "    # print(grid.grid_scores_)\n",
        "    print(grid.best_score_)\n",
        "    print('features importantes')\n",
        "    print(clf.feature_importances_)\n"
      ],
      "execution_count": 0,
      "outputs": []
    },
    {
      "cell_type": "markdown",
      "metadata": {
        "colab_type": "text",
        "id": "OdeqCNn620cp"
      },
      "source": [
        "## Treinando algoritmos com features não tratadas\n"
      ]
    },
    {
      "cell_type": "code",
      "metadata": {
        "id": "fOcKx-ABg59v",
        "colab_type": "code",
        "colab": {}
      },
      "source": [
        "feature_train = [ ML_AVERAGE_ODD_FAVORITE,\n",
        "ML_AVERAGE_ODD_MIDDLE,\n",
        "ML_AVERAGE_ODD_UNDERDOG,\n",
        "BTS_AVERAGE_ODD_FAVORTIE,\n",
        "BTS_AVERAGE_ODD_UNDERDOG ]"
      ],
      "execution_count": 0,
      "outputs": []
    },
    {
      "cell_type": "markdown",
      "metadata": {
        "colab_type": "text",
        "id": "mkIUGTS83Aj6"
      },
      "source": [
        "### * Treinando Adaboost"
      ]
    },
    {
      "cell_type": "code",
      "metadata": {
        "colab_type": "code",
        "outputId": "72dd0e8c-4ba1-43c8-ce5a-a8511f88bfab",
        "id": "-ucKjLxG3Aj_",
        "colab": {
          "base_uri": "https://localhost:8080/",
          "height": 123
        }
      },
      "source": [
        "prediction_features(ada_clf, GAME_RESULT, df_train, feature_train)"
      ],
      "execution_count": 14,
      "outputs": [
        {
          "output_type": "stream",
          "text": [
            "Fitting 5 folds for each of 1 candidates, totalling 5 fits\n"
          ],
          "name": "stdout"
        },
        {
          "output_type": "stream",
          "text": [
            "[Parallel(n_jobs=1)]: Using backend SequentialBackend with 1 concurrent workers.\n",
            "[Parallel(n_jobs=1)]: Done   5 out of   5 | elapsed:    3.3s finished\n"
          ],
          "name": "stderr"
        },
        {
          "output_type": "stream",
          "text": [
            "0.46169714017815283\n",
            "features importantes\n",
            "[0.26 0.18 0.22 0.18 0.16]\n"
          ],
          "name": "stdout"
        }
      ]
    },
    {
      "cell_type": "markdown",
      "metadata": {
        "colab_type": "text",
        "id": "g-nBpFmK3N2D"
      },
      "source": [
        "### * Treinando RandomForest"
      ]
    },
    {
      "cell_type": "code",
      "metadata": {
        "colab_type": "code",
        "outputId": "2cb40299-4c98-4b55-840a-98c43e7d325c",
        "id": "6S4wFlnm3N2B",
        "colab": {
          "base_uri": "https://localhost:8080/",
          "height": 392
        }
      },
      "source": [
        "prediction_features(rf_clf, GAME_RESULT, df_train, feature_train)"
      ],
      "execution_count": 15,
      "outputs": [
        {
          "output_type": "stream",
          "text": [
            "Fitting 5 folds for each of 1 candidates, totalling 5 fits\n"
          ],
          "name": "stdout"
        },
        {
          "output_type": "stream",
          "text": [
            "[Parallel(n_jobs=1)]: Using backend SequentialBackend with 1 concurrent workers.\n",
            "/usr/local/lib/python3.6/dist-packages/sklearn/ensemble/forest.py:245: FutureWarning: The default value of n_estimators will change from 10 in version 0.20 to 100 in 0.22.\n",
            "  \"10 in version 0.20 to 100 in 0.22.\", FutureWarning)\n",
            "/usr/local/lib/python3.6/dist-packages/sklearn/ensemble/forest.py:245: FutureWarning: The default value of n_estimators will change from 10 in version 0.20 to 100 in 0.22.\n",
            "  \"10 in version 0.20 to 100 in 0.22.\", FutureWarning)\n",
            "/usr/local/lib/python3.6/dist-packages/sklearn/ensemble/forest.py:245: FutureWarning: The default value of n_estimators will change from 10 in version 0.20 to 100 in 0.22.\n",
            "  \"10 in version 0.20 to 100 in 0.22.\", FutureWarning)\n",
            "/usr/local/lib/python3.6/dist-packages/sklearn/ensemble/forest.py:245: FutureWarning: The default value of n_estimators will change from 10 in version 0.20 to 100 in 0.22.\n",
            "  \"10 in version 0.20 to 100 in 0.22.\", FutureWarning)\n",
            "/usr/local/lib/python3.6/dist-packages/sklearn/ensemble/forest.py:245: FutureWarning: The default value of n_estimators will change from 10 in version 0.20 to 100 in 0.22.\n",
            "  \"10 in version 0.20 to 100 in 0.22.\", FutureWarning)\n",
            "[Parallel(n_jobs=1)]: Done   5 out of   5 | elapsed:    0.8s finished\n",
            "/usr/local/lib/python3.6/dist-packages/sklearn/ensemble/forest.py:245: FutureWarning: The default value of n_estimators will change from 10 in version 0.20 to 100 in 0.22.\n",
            "  \"10 in version 0.20 to 100 in 0.22.\", FutureWarning)\n"
          ],
          "name": "stderr"
        },
        {
          "output_type": "stream",
          "text": [
            "0.38406000937646506\n",
            "features importantes\n",
            "[0.21576403 0.20647098 0.22007883 0.17394355 0.18374262]\n"
          ],
          "name": "stdout"
        },
        {
          "output_type": "stream",
          "text": [
            "/usr/local/lib/python3.6/dist-packages/sklearn/ensemble/forest.py:245: FutureWarning: The default value of n_estimators will change from 10 in version 0.20 to 100 in 0.22.\n",
            "  \"10 in version 0.20 to 100 in 0.22.\", FutureWarning)\n"
          ],
          "name": "stderr"
        }
      ]
    },
    {
      "cell_type": "markdown",
      "metadata": {
        "colab_type": "text",
        "id": "1P5-JYEc3su2"
      },
      "source": [
        "### * Treinando GradientBoosting"
      ]
    },
    {
      "cell_type": "code",
      "metadata": {
        "colab_type": "code",
        "outputId": "cf68d765-c4c0-4069-fffe-5f86f6ed0b56",
        "id": "7c_Gu6Gy3su2",
        "colab": {
          "base_uri": "https://localhost:8080/",
          "height": 123
        }
      },
      "source": [
        "prediction_features(grad_clf, GAME_RESULT, df_train, feature_train)"
      ],
      "execution_count": 16,
      "outputs": [
        {
          "output_type": "stream",
          "text": [
            "Fitting 5 folds for each of 1 candidates, totalling 5 fits\n"
          ],
          "name": "stdout"
        },
        {
          "output_type": "stream",
          "text": [
            "[Parallel(n_jobs=1)]: Using backend SequentialBackend with 1 concurrent workers.\n",
            "[Parallel(n_jobs=1)]: Done   5 out of   5 | elapsed:    7.0s finished\n"
          ],
          "name": "stderr"
        },
        {
          "output_type": "stream",
          "text": [
            "0.4556024378809189\n",
            "features importantes\n",
            "[0.44260802 0.16200666 0.18329197 0.09282818 0.11926517]\n"
          ],
          "name": "stdout"
        }
      ]
    },
    {
      "cell_type": "markdown",
      "metadata": {
        "id": "RlN6dmin8ysk",
        "colab_type": "text"
      },
      "source": [
        "## Novas features criadas\n"
      ]
    },
    {
      "cell_type": "code",
      "metadata": {
        "id": "uJRpnNMG85T2",
        "colab_type": "code",
        "colab": {}
      },
      "source": [
        "ML_REAL_PROB_HOME = 'm.odds.s.1x2.h.t.med'\n",
        "ML_REAL_PROB_DRAW = 'm.odds.s.1x2.d.t.med'\n",
        "ML_REAL_PROB_AWAY = 'm.odds.s.1x2.a.t.med'\n",
        "BTS_REAL_PROB_FAVORITE = 'm.odds.s.bts.y.t.med'\n",
        "BTS_REAL_PROB_UNDERDOG = 'm.odds.s.bts.n.t.med'"
      ],
      "execution_count": 0,
      "outputs": []
    },
    {
      "cell_type": "code",
      "metadata": {
        "id": "O-jA2pteQMfG",
        "colab_type": "code",
        "colab": {
          "base_uri": "https://localhost:8080/",
          "height": 406
        },
        "outputId": "69784020-a25d-417d-feab-b39a5b2325ec"
      },
      "source": [
        "df[[HOME_TEAM, AWAY_TEAM, ML_REAL_PROB_HOME,ML_REAL_PROB_DRAW,ML_REAL_PROB_AWAY]]"
      ],
      "execution_count": 45,
      "outputs": [
        {
          "output_type": "execute_result",
          "data": {
            "text/html": [
              "<div>\n",
              "<style scoped>\n",
              "    .dataframe tbody tr th:only-of-type {\n",
              "        vertical-align: middle;\n",
              "    }\n",
              "\n",
              "    .dataframe tbody tr th {\n",
              "        vertical-align: top;\n",
              "    }\n",
              "\n",
              "    .dataframe thead th {\n",
              "        text-align: right;\n",
              "    }\n",
              "</style>\n",
              "<table border=\"1\" class=\"dataframe\">\n",
              "  <thead>\n",
              "    <tr style=\"text-align: right;\">\n",
              "      <th></th>\n",
              "      <th>m.th</th>\n",
              "      <th>m.ta</th>\n",
              "      <th>m.odds.s.1x2.h.t.med</th>\n",
              "      <th>m.odds.s.1x2.d.t.med</th>\n",
              "      <th>m.odds.s.1x2.a.t.med</th>\n",
              "    </tr>\n",
              "  </thead>\n",
              "  <tbody>\n",
              "    <tr>\n",
              "      <th>0</th>\n",
              "      <td>Avai</td>\n",
              "      <td>Ituano</td>\n",
              "      <td>NaN</td>\n",
              "      <td>NaN</td>\n",
              "      <td>NaN</td>\n",
              "    </tr>\n",
              "    <tr>\n",
              "      <th>1</th>\n",
              "      <td>Ceara</td>\n",
              "      <td>Santo Andre</td>\n",
              "      <td>NaN</td>\n",
              "      <td>NaN</td>\n",
              "      <td>NaN</td>\n",
              "    </tr>\n",
              "    <tr>\n",
              "      <th>2</th>\n",
              "      <td>CRB</td>\n",
              "      <td>Barueri</td>\n",
              "      <td>NaN</td>\n",
              "      <td>NaN</td>\n",
              "      <td>NaN</td>\n",
              "    </tr>\n",
              "    <tr>\n",
              "      <th>3</th>\n",
              "      <td>Gama</td>\n",
              "      <td>Bahia</td>\n",
              "      <td>NaN</td>\n",
              "      <td>NaN</td>\n",
              "      <td>NaN</td>\n",
              "    </tr>\n",
              "    <tr>\n",
              "      <th>4</th>\n",
              "      <td>Marilia</td>\n",
              "      <td>Fortaleza</td>\n",
              "      <td>NaN</td>\n",
              "      <td>NaN</td>\n",
              "      <td>NaN</td>\n",
              "    </tr>\n",
              "    <tr>\n",
              "      <th>...</th>\n",
              "      <td>...</td>\n",
              "      <td>...</td>\n",
              "      <td>...</td>\n",
              "      <td>...</td>\n",
              "      <td>...</td>\n",
              "    </tr>\n",
              "    <tr>\n",
              "      <th>37535</th>\n",
              "      <td>Hoffenheim</td>\n",
              "      <td>Werder Bremen</td>\n",
              "      <td>0.5337</td>\n",
              "      <td>0.2381</td>\n",
              "      <td>0.2233</td>\n",
              "    </tr>\n",
              "    <tr>\n",
              "      <th>37536</th>\n",
              "      <td>Mainz</td>\n",
              "      <td>Hannover</td>\n",
              "      <td>0.5089</td>\n",
              "      <td>0.2672</td>\n",
              "      <td>0.2222</td>\n",
              "    </tr>\n",
              "    <tr>\n",
              "      <th>37537</th>\n",
              "      <td>Schalke</td>\n",
              "      <td>RB Leipzig</td>\n",
              "      <td>0.3372</td>\n",
              "      <td>0.2823</td>\n",
              "      <td>0.3773</td>\n",
              "    </tr>\n",
              "    <tr>\n",
              "      <th>37538</th>\n",
              "      <td>Wolfsburg</td>\n",
              "      <td>Dortmund</td>\n",
              "      <td>0.2458</td>\n",
              "      <td>0.2509</td>\n",
              "      <td>0.4994</td>\n",
              "    </tr>\n",
              "    <tr>\n",
              "      <th>37539</th>\n",
              "      <td>Bayern Munich</td>\n",
              "      <td>Bayer Leverkusen</td>\n",
              "      <td>0.7564</td>\n",
              "      <td>0.1529</td>\n",
              "      <td>0.0902</td>\n",
              "    </tr>\n",
              "  </tbody>\n",
              "</table>\n",
              "<p>37540 rows × 5 columns</p>\n",
              "</div>"
            ],
            "text/plain": [
              "                m.th  ... m.odds.s.1x2.a.t.med\n",
              "0               Avai  ...                  NaN\n",
              "1              Ceara  ...                  NaN\n",
              "2                CRB  ...                  NaN\n",
              "3               Gama  ...                  NaN\n",
              "4            Marilia  ...                  NaN\n",
              "...              ...  ...                  ...\n",
              "37535     Hoffenheim  ...               0.2233\n",
              "37536          Mainz  ...               0.2222\n",
              "37537        Schalke  ...               0.3773\n",
              "37538      Wolfsburg  ...               0.4994\n",
              "37539  Bayern Munich  ...               0.0902\n",
              "\n",
              "[37540 rows x 5 columns]"
            ]
          },
          "metadata": {
            "tags": []
          },
          "execution_count": 45
        }
      ]
    },
    {
      "cell_type": "markdown",
      "metadata": {
        "colab_type": "text",
        "id": "OaQ2wX4W9acR"
      },
      "source": [
        "## Treinando algoritmos com features não tratadas\n"
      ]
    },
    {
      "cell_type": "code",
      "metadata": {
        "id": "34tW3zPc9Gx1",
        "colab_type": "code",
        "colab": {}
      },
      "source": [
        "feature_train_news = [ ML_AVERAGE_ODD_FAVORITE,\n",
        "ML_AVERAGE_ODD_MIDDLE,\n",
        "ML_AVERAGE_ODD_UNDERDOG,\n",
        "BTS_AVERAGE_ODD_FAVORTIE,\n",
        "BTS_AVERAGE_ODD_UNDERDOG,\n",
        "ML_REAL_PROB_HOME,\n",
        "ML_REAL_PROB_DRAW,\n",
        "ML_REAL_PROB_AWAY,\n",
        "BTS_REAL_PROB_FAVORITE,\n",
        "BTS_REAL_PROB_UNDERDOG]"
      ],
      "execution_count": 0,
      "outputs": []
    },
    {
      "cell_type": "markdown",
      "metadata": {
        "colab_type": "text",
        "id": "e5D9h0oY9mOm"
      },
      "source": [
        "### * Treinando Adaboost"
      ]
    },
    {
      "cell_type": "code",
      "metadata": {
        "colab_type": "code",
        "outputId": "c24051b8-78dc-48a4-c746-293ef8ea635d",
        "id": "mYvUgNpX9mOu",
        "colab": {
          "base_uri": "https://localhost:8080/",
          "height": 123
        }
      },
      "source": [
        "prediction_features(ada_clf, GAME_RESULT, df_train, feature_train_news)"
      ],
      "execution_count": 19,
      "outputs": [
        {
          "output_type": "stream",
          "text": [
            "Fitting 5 folds for each of 1 candidates, totalling 5 fits\n"
          ],
          "name": "stdout"
        },
        {
          "output_type": "stream",
          "text": [
            "[Parallel(n_jobs=1)]: Using backend SequentialBackend with 1 concurrent workers.\n",
            "[Parallel(n_jobs=1)]: Done   5 out of   5 | elapsed:    4.4s finished\n"
          ],
          "name": "stderr"
        },
        {
          "output_type": "stream",
          "text": [
            "0.5241443975621191\n",
            "features importantes\n",
            "[0.08 0.08 0.02 0.04 0.04 0.26 0.16 0.18 0.1  0.04]\n"
          ],
          "name": "stdout"
        }
      ]
    },
    {
      "cell_type": "markdown",
      "metadata": {
        "colab_type": "text",
        "id": "UzGk6uso9mOw"
      },
      "source": [
        "### * Treinando RandomForest"
      ]
    },
    {
      "cell_type": "code",
      "metadata": {
        "colab_type": "code",
        "outputId": "6033e23d-0905-4fb3-fed8-56d6e3ac5b1d",
        "id": "ZDy9vw8t9mOx",
        "colab": {
          "base_uri": "https://localhost:8080/",
          "height": 141
        }
      },
      "source": [
        "prediction_features(rf_clf, GAME_RESULT, df_train, feature_train_news)"
      ],
      "execution_count": 20,
      "outputs": [
        {
          "output_type": "stream",
          "text": [
            "Fitting 5 folds for each of 1 candidates, totalling 5 fits\n"
          ],
          "name": "stdout"
        },
        {
          "output_type": "stream",
          "text": [
            "[Parallel(n_jobs=1)]: Using backend SequentialBackend with 1 concurrent workers.\n",
            "[Parallel(n_jobs=1)]: Done   5 out of   5 | elapsed:    1.2s finished\n"
          ],
          "name": "stderr"
        },
        {
          "output_type": "stream",
          "text": [
            "0.4608532583216127\n",
            "features importantes\n",
            "[0.08479161 0.0751553  0.08444001 0.07408939 0.06879575 0.1423311\n",
            " 0.12631348 0.16131328 0.09010462 0.09266545]\n"
          ],
          "name": "stdout"
        }
      ]
    },
    {
      "cell_type": "markdown",
      "metadata": {
        "colab_type": "text",
        "id": "RTUyJ5z09mOy"
      },
      "source": [
        "### * Treinando GradientBoosting"
      ]
    },
    {
      "cell_type": "code",
      "metadata": {
        "colab_type": "code",
        "outputId": "b666edda-1847-4da9-c151-54b67aec5f7c",
        "id": "tgwgRLlC9mO0",
        "colab": {
          "base_uri": "https://localhost:8080/",
          "height": 141
        }
      },
      "source": [
        "prediction_features(grad_clf, GAME_RESULT, df_train, feature_train_news)"
      ],
      "execution_count": 21,
      "outputs": [
        {
          "output_type": "stream",
          "text": [
            "Fitting 5 folds for each of 1 candidates, totalling 5 fits\n"
          ],
          "name": "stdout"
        },
        {
          "output_type": "stream",
          "text": [
            "[Parallel(n_jobs=1)]: Using backend SequentialBackend with 1 concurrent workers.\n",
            "[Parallel(n_jobs=1)]: Done   5 out of   5 | elapsed:   10.8s finished\n"
          ],
          "name": "stderr"
        },
        {
          "output_type": "stream",
          "text": [
            "0.5290201593999062\n",
            "features importantes\n",
            "[0.04113103 0.03096399 0.04618918 0.0229219  0.02154279 0.48214817\n",
            " 0.10316009 0.1943885  0.03115908 0.02639528]\n"
          ],
          "name": "stdout"
        }
      ]
    },
    {
      "cell_type": "markdown",
      "metadata": {
        "colab_type": "text",
        "id": "jixQgVPfBiZi"
      },
      "source": [
        "## Treinando algoritmos apenas com features novas\n"
      ]
    },
    {
      "cell_type": "code",
      "metadata": {
        "colab_type": "code",
        "id": "kafOJj-TBiZj",
        "colab": {}
      },
      "source": [
        "feature_train_news_features = [ \n",
        "ML_REAL_PROB_HOME,\n",
        "ML_REAL_PROB_DRAW,\n",
        "ML_REAL_PROB_AWAY]"
      ],
      "execution_count": 0,
      "outputs": []
    },
    {
      "cell_type": "markdown",
      "metadata": {
        "colab_type": "text",
        "id": "zVgDND3RBiZl"
      },
      "source": [
        "### * Treinando Adaboost"
      ]
    },
    {
      "cell_type": "code",
      "metadata": {
        "colab_type": "code",
        "outputId": "1bf839e9-935c-47f2-a8a3-41aa16fd5365",
        "id": "ezi6NwY6BiZm",
        "colab": {
          "base_uri": "https://localhost:8080/",
          "height": 123
        }
      },
      "source": [
        "prediction_features(ada_clf, GAME_RESULT, df_train, feature_train_news_features)"
      ],
      "execution_count": 23,
      "outputs": [
        {
          "output_type": "stream",
          "text": [
            "Fitting 5 folds for each of 1 candidates, totalling 5 fits\n"
          ],
          "name": "stdout"
        },
        {
          "output_type": "stream",
          "text": [
            "[Parallel(n_jobs=1)]: Using backend SequentialBackend with 1 concurrent workers.\n",
            "[Parallel(n_jobs=1)]: Done   5 out of   5 | elapsed:    3.5s finished\n"
          ],
          "name": "stderr"
        },
        {
          "output_type": "stream",
          "text": [
            "0.5294889826535396\n",
            "features importantes\n",
            "[0.28 0.32 0.4 ]\n"
          ],
          "name": "stdout"
        }
      ]
    },
    {
      "cell_type": "markdown",
      "metadata": {
        "colab_type": "text",
        "id": "li_hossSBiZr"
      },
      "source": [
        "### * Treinando RandomForest"
      ]
    },
    {
      "cell_type": "code",
      "metadata": {
        "colab_type": "code",
        "outputId": "6465613b-3338-4950-859d-304a00d7e7df",
        "id": "g2hSnyRbBiZr",
        "colab": {
          "base_uri": "https://localhost:8080/",
          "height": 123
        }
      },
      "source": [
        "prediction_features(rf_clf, GAME_RESULT, df_train, feature_train_news_features)"
      ],
      "execution_count": 24,
      "outputs": [
        {
          "output_type": "stream",
          "text": [
            "Fitting 5 folds for each of 1 candidates, totalling 5 fits\n"
          ],
          "name": "stdout"
        },
        {
          "output_type": "stream",
          "text": [
            "[Parallel(n_jobs=1)]: Using backend SequentialBackend with 1 concurrent workers.\n",
            "[Parallel(n_jobs=1)]: Done   5 out of   5 | elapsed:    0.7s finished\n"
          ],
          "name": "stderr"
        },
        {
          "output_type": "stream",
          "text": [
            "0.4556024378809189\n",
            "features importantes\n",
            "[0.34644023 0.30972228 0.34383749]\n"
          ],
          "name": "stdout"
        }
      ]
    },
    {
      "cell_type": "markdown",
      "metadata": {
        "colab_type": "text",
        "id": "g-dC2QHLBiZt"
      },
      "source": [
        "### * Treinando GradientBoosting"
      ]
    },
    {
      "cell_type": "code",
      "metadata": {
        "colab_type": "code",
        "outputId": "b2f11f53-d690-443b-8879-fc6b855a4c8a",
        "id": "GZ3Rmh7qBiZu",
        "colab": {
          "base_uri": "https://localhost:8080/",
          "height": 123
        }
      },
      "source": [
        "prediction_features(grad_clf, GAME_RESULT, df_train, feature_train_news_features)"
      ],
      "execution_count": 25,
      "outputs": [
        {
          "output_type": "stream",
          "text": [
            "Fitting 5 folds for each of 1 candidates, totalling 5 fits\n"
          ],
          "name": "stdout"
        },
        {
          "output_type": "stream",
          "text": [
            "[Parallel(n_jobs=1)]: Using backend SequentialBackend with 1 concurrent workers.\n",
            "[Parallel(n_jobs=1)]: Done   5 out of   5 | elapsed:    7.3s finished\n"
          ],
          "name": "stderr"
        },
        {
          "output_type": "stream",
          "text": [
            "0.5286451007969996\n",
            "features importantes\n",
            "[0.56561741 0.15664484 0.27773774]\n"
          ],
          "name": "stdout"
        }
      ]
    },
    {
      "cell_type": "markdown",
      "metadata": {
        "id": "BeSkWda0TBvj",
        "colab_type": "text"
      },
      "source": [
        "### Funções para predição."
      ]
    },
    {
      "cell_type": "code",
      "metadata": {
        "id": "FqjFfl_wTBvk",
        "colab_type": "code",
        "colab": {}
      },
      "source": [
        "def prediction(clf,target, dataFrame):\n",
        "    \n",
        "#     features = ['m.odds.f.1x2.f.v.med', \n",
        "#                 'm.odds.f.1x2.m.v.med', \n",
        "#                 'm.odds.f.1x2.u.v.med', \n",
        "#                 'm.odds.s.1x2.h.t.med',\n",
        "#                 'm.odds.s.1x2.d.t.med',\n",
        "#                 'm.odds.s.1x2.a.t.med']\n",
        "    \n",
        "    features = ['m.odds.s.1x2.h.t.med',\n",
        "                'm.odds.s.1x2.d.t.med',\n",
        "                'm.odds.s.1x2.a.t.med']\n",
        "    \n",
        "\n",
        "    param_grid = {}\n",
        "    grid= GridSearchCV(clf, param_grid=param_grid, verbose=1, cv=5)\n",
        "\n",
        "    grid.fit(dataFrame[features],dataFrame[target])\n",
        "\n",
        "    print(grid.grid_scores_)\n",
        "    print(grid.best_score_)\n",
        "\n",
        "    \n",
        "def prediction_bestparam(clf,target, dataFrame, param_grid):\n",
        "    \n",
        "#     features = ['m.odds.f.1x2.f.v.med', \n",
        "#                 'm.odds.f.1x2.m.v.med', \n",
        "#                 'm.odds.f.1x2.u.v.med', \n",
        "#                 'm.odds.s.1x2.h.t.med',\n",
        "#                 'm.odds.s.1x2.d.t.med',\n",
        "#                 'm.odds.s.1x2.a.t.med']\n",
        "\n",
        "    # features = ['m.odds.s.1x2.h.t.med',\n",
        "    #             'm.odds.s.1x2.d.t.med',\n",
        "    #             'm.odds.s.1x2.a.t.med']\n",
        "\n",
        "    features = [ \n",
        "                ML_REAL_PROB_HOME,\n",
        "                ML_REAL_PROB_DRAW,\n",
        "                ML_REAL_PROB_AWAY]\n",
        "    \n",
        "    grid= GridSearchCV(clf, param_grid=param_grid, verbose=1, cv=5)\n",
        "\n",
        "    grid.fit(dataFrame[features],dataFrame[target])\n",
        "    grid.predict_proba(dataFrame[features])\n",
        "\n",
        "    #print(grid.grid_scores_)\n",
        "    print(grid.best_score_)\n",
        "    print(grid.best_params_)\n",
        "    "
      ],
      "execution_count": 0,
      "outputs": []
    },
    {
      "cell_type": "markdown",
      "metadata": {
        "id": "V0XWc3-RTBvl",
        "colab_type": "text"
      },
      "source": [
        "## Treinando algoritmos"
      ]
    },
    {
      "cell_type": "markdown",
      "metadata": {
        "id": "aAnbdJa5TBvm",
        "colab_type": "text"
      },
      "source": [
        "### * Treinando Adaboost"
      ]
    },
    {
      "cell_type": "code",
      "metadata": {
        "id": "frNR3eY7TBvm",
        "colab_type": "code",
        "outputId": "4d27d6af-865f-4a57-c89b-b105aab2959b",
        "colab": {
          "base_uri": "https://localhost:8080/",
          "height": 105
        }
      },
      "source": [
        "# ada_clf = AdaBoostClassifier()\n",
        "\n",
        "ada_param_grid ={'n_estimators': [160], \n",
        "             'learning_rate': [0.09],\n",
        "            'random_state': [1]}\n",
        "\n",
        "prediction_bestparam(ada_clf, GAME_RESULT, df_train, ada_param_grid)"
      ],
      "execution_count": 27,
      "outputs": [
        {
          "output_type": "stream",
          "text": [
            "Fitting 5 folds for each of 1 candidates, totalling 5 fits\n"
          ],
          "name": "stdout"
        },
        {
          "output_type": "stream",
          "text": [
            "[Parallel(n_jobs=1)]: Using backend SequentialBackend with 1 concurrent workers.\n",
            "[Parallel(n_jobs=1)]: Done   5 out of   5 | elapsed:   11.0s finished\n"
          ],
          "name": "stderr"
        },
        {
          "output_type": "stream",
          "text": [
            "0.5320206282231599\n",
            "{'learning_rate': 0.09, 'n_estimators': 160, 'random_state': 1}\n"
          ],
          "name": "stdout"
        }
      ]
    },
    {
      "cell_type": "markdown",
      "metadata": {
        "id": "AQwpXyR3TBvo",
        "colab_type": "text"
      },
      "source": [
        "### * Treinando RandomForest"
      ]
    },
    {
      "cell_type": "code",
      "metadata": {
        "id": "tpMT6skpTBvs",
        "colab_type": "code",
        "outputId": "b81c5f83-87ab-4c1d-c6f8-c79fb8c63d90",
        "colab": {
          "base_uri": "https://localhost:8080/",
          "height": 125
        }
      },
      "source": [
        "# rf_clf = RandomForestClassifier()\n",
        "\n",
        "# rf_param_grid ={'n_estimators': [10], \n",
        "#             'max_depth': [2],\n",
        "#             'min_samples_leaf': [1],\n",
        "#             'min_weight_fraction_leaf': [0.2],\n",
        "#             'n_jobs': [1],\n",
        "#             'random_state': [10],\n",
        "#             'verbose': [0]}\n",
        "\n",
        "\n",
        "rf_param_grid ={'n_estimators': list(range(1,11)), \n",
        "            'max_depth': [2],\n",
        "            'min_samples_leaf': [1],\n",
        "            'min_weight_fraction_leaf': np.arange(0.1, 0.5, 0.1),\n",
        "            'n_jobs': [1],\n",
        "            'random_state': [10],\n",
        "            'verbose': [0]}\n",
        "\n",
        "prediction_bestparam(rf_clf, GAME_RESULT, df_train, rf_param_grid)"
      ],
      "execution_count": 58,
      "outputs": [
        {
          "output_type": "stream",
          "text": [
            "Fitting 5 folds for each of 1 candidates, totalling 5 fits\n"
          ],
          "name": "stdout"
        },
        {
          "output_type": "stream",
          "text": [
            "[Parallel(n_jobs=1)]: Using backend SequentialBackend with 1 concurrent workers.\n"
          ],
          "name": "stderr"
        },
        {
          "output_type": "stream",
          "text": [
            "0.5308954524144398\n",
            "{'max_depth': 2, 'min_samples_leaf': 1, 'min_weight_fraction_leaf': 0.2, 'n_estimators': 10, 'n_jobs': 1, 'random_state': 10, 'verbose': 0}\n"
          ],
          "name": "stdout"
        },
        {
          "output_type": "stream",
          "text": [
            "[Parallel(n_jobs=1)]: Done   5 out of   5 | elapsed:    0.2s finished\n"
          ],
          "name": "stderr"
        }
      ]
    },
    {
      "cell_type": "markdown",
      "metadata": {
        "id": "v18VU6DqTBvu",
        "colab_type": "text"
      },
      "source": [
        "### * Treinando GradientBoosting"
      ]
    },
    {
      "cell_type": "code",
      "metadata": {
        "id": "8g9zQSxfTBvu",
        "colab_type": "code",
        "outputId": "da6e416f-a733-4e75-c64c-fcb0cfdf648b",
        "colab": {
          "base_uri": "https://localhost:8080/",
          "height": 125
        }
      },
      "source": [
        "# grad_clf = GradientBoostingClassifier()\n",
        "\n",
        "grad_param_grid ={'loss': ['deviance'], \n",
        "            'learning_rate': [0.09],\n",
        "            'n_estimators': [150],\n",
        "            'max_depth': [1],\n",
        "            'min_samples_leaf': [5],\n",
        "            'verbose': [0],\n",
        "            'random_state': [1]}\n",
        "\n",
        "prediction_bestparam(grad_clf, GAME_RESULT, df_train, grad_param_grid)"
      ],
      "execution_count": 29,
      "outputs": [
        {
          "output_type": "stream",
          "text": [
            "Fitting 5 folds for each of 1 candidates, totalling 5 fits\n"
          ],
          "name": "stdout"
        },
        {
          "output_type": "stream",
          "text": [
            "[Parallel(n_jobs=1)]: Using backend SequentialBackend with 1 concurrent workers.\n",
            "[Parallel(n_jobs=1)]: Done   5 out of   5 | elapsed:    7.3s finished\n"
          ],
          "name": "stderr"
        },
        {
          "output_type": "stream",
          "text": [
            "0.5332395686826067\n",
            "{'learning_rate': 0.09, 'loss': 'deviance', 'max_depth': 1, 'min_samples_leaf': 5, 'n_estimators': 150, 'random_state': 1, 'verbose': 0}\n"
          ],
          "name": "stdout"
        }
      ]
    },
    {
      "cell_type": "markdown",
      "metadata": {
        "id": "utF3FqsWTBvy",
        "colab_type": "text"
      },
      "source": [
        "#  Testando os classificadores com o df teste"
      ]
    },
    {
      "cell_type": "markdown",
      "metadata": {
        "id": "Xgli-CY8TBvz",
        "colab_type": "text"
      },
      "source": [
        "### Funções e constante para o treino"
      ]
    },
    {
      "cell_type": "code",
      "metadata": {
        "id": "8zAKly8-TBv0",
        "colab_type": "code",
        "colab": {}
      },
      "source": [
        "features = ['m.odds.f.1x2.f.v.med', \n",
        "                'm.odds.f.1x2.m.v.med', \n",
        "                'm.odds.f.1x2.u.v.med', \n",
        "                'm.odds.s.1x2.h.t.med',\n",
        "                'm.odds.s.1x2.d.t.med',\n",
        "                'm.odds.s.1x2.a.t.med']\n",
        "\n",
        "# features = ['m.odds.s.1x2.h.t.med',\n",
        "#                 'm.odds.s.1x2.d.t.med',\n",
        "#                 'm.odds.s.1x2.a.t.med']\n",
        "    \n",
        "\n",
        "ADABOOST = 'ada'\n",
        "RANDOMFOREST = 'rf'\n",
        "GRADIENTBOOST = 'grad'\n",
        "\n",
        "def validation_predict(clf, param_grid, df_train, df_test, features, target, nome_clf):\n",
        "    \n",
        "    print(nome_clf + ': ' + target)\n",
        "    \n",
        "    grid= GridSearchCV(clf, param_grid, verbose=1, cv=5)\n",
        "    grid.fit(df_train[features],df_train[target])\n",
        "\n",
        "    grid.best_score_\n",
        "    p = grid.predict(df_test[features])\n",
        "\n",
        "    new_column = nome_clf+'_'+target+'_predict'\n",
        "    df_test[new_column] = p\n",
        "\n",
        "    hits = df_test[df_test[new_column] == df_test[target]]\n",
        "    print(float(len(hits))/len(df_test))\n",
        "    return formater_porcent(float(len(hits))/len(df_test))"
      ],
      "execution_count": 0,
      "outputs": []
    },
    {
      "cell_type": "code",
      "metadata": {
        "id": "y6Epr-SjTBv1",
        "colab_type": "code",
        "colab": {}
      },
      "source": [
        "nome_algotirmo = []\n",
        "score_alg = []"
      ],
      "execution_count": 0,
      "outputs": []
    },
    {
      "cell_type": "markdown",
      "metadata": {
        "id": "_qeYjmgFTBv_",
        "colab_type": "text"
      },
      "source": [
        "### * Testando Adaboost"
      ]
    },
    {
      "cell_type": "code",
      "metadata": {
        "id": "9xBk1cg7TBwA",
        "colab_type": "code",
        "outputId": "19c3601c-6c26-440a-bc73-d724c6ec2834",
        "colab": {
          "base_uri": "https://localhost:8080/",
          "height": 214
        }
      },
      "source": [
        "nome_algotirmo.append('Adaboost')\n",
        "score_alg.append(validation_predict(ada_clf, ada_param_grid, df_train, df_test, features, GAME_RESULT, ADABOOST))\n"
      ],
      "execution_count": 32,
      "outputs": [
        {
          "output_type": "stream",
          "text": [
            "ada: m.res.1x2\n",
            "Fitting 5 folds for each of 1 candidates, totalling 5 fits\n"
          ],
          "name": "stdout"
        },
        {
          "output_type": "stream",
          "text": [
            "[Parallel(n_jobs=1)]: Using backend SequentialBackend with 1 concurrent workers.\n",
            "[Parallel(n_jobs=1)]: Done   5 out of   5 | elapsed:   12.0s finished\n"
          ],
          "name": "stderr"
        },
        {
          "output_type": "stream",
          "text": [
            "0.5422419460881\n"
          ],
          "name": "stdout"
        },
        {
          "output_type": "stream",
          "text": [
            "/usr/local/lib/python3.6/dist-packages/ipykernel_launcher.py:28: SettingWithCopyWarning: \n",
            "A value is trying to be set on a copy of a slice from a DataFrame.\n",
            "Try using .loc[row_indexer,col_indexer] = value instead\n",
            "\n",
            "See the caveats in the documentation: http://pandas.pydata.org/pandas-docs/stable/user_guide/indexing.html#returning-a-view-versus-a-copy\n"
          ],
          "name": "stderr"
        }
      ]
    },
    {
      "cell_type": "markdown",
      "metadata": {
        "id": "R8FXudhmTBwE",
        "colab_type": "text"
      },
      "source": [
        "### * Testando RandomForest"
      ]
    },
    {
      "cell_type": "code",
      "metadata": {
        "id": "LqPuiCUGTBwE",
        "colab_type": "code",
        "outputId": "5ea3c8b7-1750-4700-9d32-d6b02e41e647",
        "colab": {
          "base_uri": "https://localhost:8080/",
          "height": 214
        }
      },
      "source": [
        "nome_algotirmo.append('RandomForest')\n",
        "score_alg.append(validation_predict(rf_clf, rf_param_grid, df_train, df_test, features, GAME_RESULT, RANDOMFOREST))\n"
      ],
      "execution_count": 33,
      "outputs": [
        {
          "output_type": "stream",
          "text": [
            "[Parallel(n_jobs=1)]: Using backend SequentialBackend with 1 concurrent workers.\n"
          ],
          "name": "stderr"
        },
        {
          "output_type": "stream",
          "text": [
            "rf: m.res.1x2\n",
            "Fitting 5 folds for each of 1 candidates, totalling 5 fits\n"
          ],
          "name": "stdout"
        },
        {
          "output_type": "stream",
          "text": [
            "[Parallel(n_jobs=1)]: Done   5 out of   5 | elapsed:    0.2s finished\n"
          ],
          "name": "stderr"
        },
        {
          "output_type": "stream",
          "text": [
            "0.5486522024983563\n"
          ],
          "name": "stdout"
        },
        {
          "output_type": "stream",
          "text": [
            "/usr/local/lib/python3.6/dist-packages/ipykernel_launcher.py:28: SettingWithCopyWarning: \n",
            "A value is trying to be set on a copy of a slice from a DataFrame.\n",
            "Try using .loc[row_indexer,col_indexer] = value instead\n",
            "\n",
            "See the caveats in the documentation: http://pandas.pydata.org/pandas-docs/stable/user_guide/indexing.html#returning-a-view-versus-a-copy\n"
          ],
          "name": "stderr"
        }
      ]
    },
    {
      "cell_type": "markdown",
      "metadata": {
        "id": "Y4Fg9RG7TBwG",
        "colab_type": "text"
      },
      "source": [
        "### * Testando GradientBoosting"
      ]
    },
    {
      "cell_type": "code",
      "metadata": {
        "id": "198mphshTBwH",
        "colab_type": "code",
        "outputId": "1c7431b5-39f8-448e-fac6-50f02299b482",
        "colab": {
          "base_uri": "https://localhost:8080/",
          "height": 214
        }
      },
      "source": [
        "nome_algotirmo.append('GradientBoosting')\n",
        "score_alg.append(validation_predict(grad_clf, grad_param_grid, df_train, df_test, features, GAME_RESULT, GRADIENTBOOST))\n"
      ],
      "execution_count": 34,
      "outputs": [
        {
          "output_type": "stream",
          "text": [
            "[Parallel(n_jobs=1)]: Using backend SequentialBackend with 1 concurrent workers.\n"
          ],
          "name": "stderr"
        },
        {
          "output_type": "stream",
          "text": [
            "grad: m.res.1x2\n",
            "Fitting 5 folds for each of 1 candidates, totalling 5 fits\n"
          ],
          "name": "stdout"
        },
        {
          "output_type": "stream",
          "text": [
            "[Parallel(n_jobs=1)]: Done   5 out of   5 | elapsed:    7.9s finished\n"
          ],
          "name": "stderr"
        },
        {
          "output_type": "stream",
          "text": [
            "0.5438856015779092\n"
          ],
          "name": "stdout"
        },
        {
          "output_type": "stream",
          "text": [
            "/usr/local/lib/python3.6/dist-packages/ipykernel_launcher.py:28: SettingWithCopyWarning: \n",
            "A value is trying to be set on a copy of a slice from a DataFrame.\n",
            "Try using .loc[row_indexer,col_indexer] = value instead\n",
            "\n",
            "See the caveats in the documentation: http://pandas.pydata.org/pandas-docs/stable/user_guide/indexing.html#returning-a-view-versus-a-copy\n"
          ],
          "name": "stderr"
        }
      ]
    },
    {
      "cell_type": "markdown",
      "metadata": {
        "id": "OcTmAgPqTBwK",
        "colab_type": "text"
      },
      "source": [
        "## Comparando resultado dos algoritmos"
      ]
    },
    {
      "cell_type": "code",
      "metadata": {
        "id": "IoFEN_IvTBwO",
        "colab_type": "code",
        "colab": {
          "base_uri": "https://localhost:8080/",
          "height": 105
        },
        "outputId": "2031b28d-e662-4c3e-a8ed-2aa51e6ce3e6"
      },
      "source": [
        "import plotly as py\n",
        "import plotly.graph_objs as go\n",
        "\n",
        "data = [go.Bar(\n",
        "            x=nome_algotirmo,\n",
        "            y=score_alg,\n",
        "    textposition = 'auto',\n",
        "        text=score_alg\n",
        "    )]\n",
        "\n",
        "\n",
        "layout = go.Layout(\n",
        "    title='Scores dos Algoritmos',\n",
        "    yaxis=dict(\n",
        "        title='Acerto em porcentagem',\n",
        "        \n",
        "    )\n",
        ")\n",
        "\n",
        "# fig = go.Figure(data=data, layout=layout)\n",
        "# py.offline.plot(fig, filename='resultado-algoritmos')"
      ],
      "execution_count": 59,
      "outputs": [
        {
          "output_type": "stream",
          "text": [
            "/usr/local/lib/python3.6/dist-packages/plotly/offline/offline.py:562: UserWarning:\n",
            "\n",
            "Your filename `resultado-algoritmos` didn't end with .html. Adding .html to the end of your file.\n",
            "\n"
          ],
          "name": "stderr"
        },
        {
          "output_type": "execute_result",
          "data": {
            "text/plain": [
              "'resultado-algoritmos.html'"
            ]
          },
          "metadata": {
            "tags": []
          },
          "execution_count": 59
        }
      ]
    }
  ]
}